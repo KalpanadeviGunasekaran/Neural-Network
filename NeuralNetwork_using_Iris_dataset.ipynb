{
  "nbformat": 4,
  "nbformat_minor": 0,
  "metadata": {
    "colab": {
      "provenance": [],
      "authorship_tag": "ABX9TyPrZ1HJRWNZckLAOafKsAuV",
      "include_colab_link": true
    },
    "kernelspec": {
      "name": "python3",
      "display_name": "Python 3"
    },
    "language_info": {
      "name": "python"
    }
  },
  "cells": [
    {
      "cell_type": "markdown",
      "metadata": {
        "id": "view-in-github",
        "colab_type": "text"
      },
      "source": [
        "<a href=\"https://colab.research.google.com/github/KalpanadeviGunasekaran/Neural-Network/blob/main/NeuralNetwork_using_Iris_dataset.ipynb\" target=\"_parent\"><img src=\"https://colab.research.google.com/assets/colab-badge.svg\" alt=\"Open In Colab\"/></a>"
      ]
    },
    {
      "cell_type": "code",
      "source": [
        "import numpy as np\n",
        "from sklearn import datasets\n",
        "from sklearn.model_selection import train_test_split\n",
        "from sklearn.preprocessing import StandardScaler, LabelEncoder\n",
        "from tensorflow import keras\n",
        "from tensorflow.keras import layers\n",
        "\n",
        "# Load the Iris dataset\n",
        "iris = datasets.load_iris()\n",
        "X = iris.data\n",
        "y = iris.target\n",
        "\n",
        "# Standardize the features\n",
        "scaler = StandardScaler()\n",
        "X = scaler.fit_transform(X)\n",
        "\n",
        "# Convert labels to one-hot encoding\n",
        "encoder = LabelEncoder()\n",
        "y = encoder.fit_transform(y)\n",
        "y = keras.utils.to_categorical(y, 3)\n",
        "\n",
        "# Split the dataset into training and testing sets\n",
        "X_train, X_test, y_train, y_test = train_test_split(X, y, test_size=0.2, random_state=42)\n",
        "\n",
        "# Build a more efficient neural network with batch normalization and dropout\n",
        "model = keras.Sequential([\n",
        "    layers.Dense(64, activation='relu', input_shape=(4,)),\n",
        "    layers.BatchNormalization(),\n",
        "    layers.Dropout(0.5),\n",
        "    layers.Dense(32, activation='relu'),\n",
        "    layers.BatchNormalization(),\n",
        "    layers.Dropout(0.5),\n",
        "    layers.Dense(3, activation='softmax')\n",
        "])\n",
        "\n",
        "# Compile the model\n",
        "model.compile(optimizer='adam', loss='categorical_crossentropy', metrics=['accuracy'])\n",
        "\n",
        "# Use early stopping to prevent overfitting\n",
        "early_stopping = keras.callbacks.EarlyStopping(monitor='val_loss', patience=10, restore_best_weights=True)\n",
        "\n",
        "# Train the model\n",
        "model.fit(X_train, y_train, epochs=10, batch_size=16, validation_data=(X_test, y_test), callbacks=[early_stopping])\n",
        "\n",
        "# Evaluate the model\n",
        "loss, accuracy = model.evaluate(X_test, y_test)\n",
        "print(f\"Test Loss: {loss:.4f}, Test Accuracy: {accuracy:.4f}\")\n"
      ],
      "metadata": {
        "colab": {
          "base_uri": "https://localhost:8080/"
        },
        "id": "MyGrP8zxa4UA",
        "outputId": "3be94363-8a6d-4f47-d35f-6057d538db22"
      },
      "execution_count": 13,
      "outputs": [
        {
          "output_type": "stream",
          "name": "stdout",
          "text": [
            "Epoch 1/10\n",
            "8/8 [==============================] - 2s 40ms/step - loss: 1.2291 - accuracy: 0.4250 - val_loss: 0.8334 - val_accuracy: 0.7667\n",
            "Epoch 2/10\n",
            "8/8 [==============================] - 0s 7ms/step - loss: 0.9496 - accuracy: 0.5667 - val_loss: 0.7737 - val_accuracy: 0.9000\n",
            "Epoch 3/10\n",
            "8/8 [==============================] - 0s 10ms/step - loss: 0.7640 - accuracy: 0.6583 - val_loss: 0.7228 - val_accuracy: 0.9000\n",
            "Epoch 4/10\n",
            "8/8 [==============================] - 0s 9ms/step - loss: 0.8098 - accuracy: 0.6333 - val_loss: 0.6804 - val_accuracy: 0.9667\n",
            "Epoch 5/10\n",
            "8/8 [==============================] - 0s 7ms/step - loss: 0.6473 - accuracy: 0.7083 - val_loss: 0.6441 - val_accuracy: 0.9667\n",
            "Epoch 6/10\n",
            "8/8 [==============================] - 0s 10ms/step - loss: 0.5824 - accuracy: 0.7667 - val_loss: 0.6132 - val_accuracy: 0.9667\n",
            "Epoch 7/10\n",
            "8/8 [==============================] - 0s 8ms/step - loss: 0.5469 - accuracy: 0.7583 - val_loss: 0.5863 - val_accuracy: 0.9667\n",
            "Epoch 8/10\n",
            "8/8 [==============================] - 0s 10ms/step - loss: 0.5366 - accuracy: 0.7833 - val_loss: 0.5587 - val_accuracy: 0.9667\n",
            "Epoch 9/10\n",
            "8/8 [==============================] - 0s 9ms/step - loss: 0.5610 - accuracy: 0.7167 - val_loss: 0.5302 - val_accuracy: 0.9667\n",
            "Epoch 10/10\n",
            "8/8 [==============================] - 0s 8ms/step - loss: 0.4663 - accuracy: 0.8000 - val_loss: 0.5019 - val_accuracy: 0.9667\n",
            "1/1 [==============================] - 0s 27ms/step - loss: 0.5019 - accuracy: 0.9667\n",
            "Test Loss: 0.5019, Test Accuracy: 0.9667\n"
          ]
        }
      ]
    }
  ]
}